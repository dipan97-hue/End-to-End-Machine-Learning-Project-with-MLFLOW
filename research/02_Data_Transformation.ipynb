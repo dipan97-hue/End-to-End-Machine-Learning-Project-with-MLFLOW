{
 "cells": [
  {
   "cell_type": "code",
   "execution_count": 1,
   "metadata": {},
   "outputs": [],
   "source": [
    "import os"
   ]
  },
  {
   "cell_type": "code",
   "execution_count": 2,
   "metadata": {},
   "outputs": [
    {
     "data": {
      "text/plain": [
       "'d:\\\\exercises\\\\Cold_Email_Generator\\\\MLOPS\\\\End-to-End-Machine-Learning-Project-with-MLFLOW\\\\research'"
      ]
     },
     "execution_count": 2,
     "metadata": {},
     "output_type": "execute_result"
    }
   ],
   "source": [
    "%pwd"
   ]
  },
  {
   "cell_type": "code",
   "execution_count": 3,
   "metadata": {},
   "outputs": [],
   "source": [
    "# os.chdir('../')"
   ]
  },
  {
   "cell_type": "code",
   "execution_count": 4,
   "metadata": {},
   "outputs": [
    {
     "data": {
      "text/plain": [
       "'d:\\\\exercises\\\\Cold_Email_Generator\\\\MLOPS\\\\End-to-End-Machine-Learning-Project-with-MLFLOW'"
      ]
     },
     "execution_count": 4,
     "metadata": {},
     "output_type": "execute_result"
    }
   ],
   "source": [
    "%pwd"
   ]
  },
  {
   "cell_type": "code",
   "execution_count": 5,
   "metadata": {},
   "outputs": [],
   "source": [
    "from dataclasses import dataclass\n",
    "from pathlib import Path\n",
    "\n",
    "@dataclass(frozen = True)\n",
    "class DataTrasnformationConfig:\n",
    "    root_dir : Path\n",
    "    data_file : Path"
   ]
  },
  {
   "cell_type": "code",
   "execution_count": 12,
   "metadata": {},
   "outputs": [],
   "source": [
    "from ML_Project.constants import *\n",
    "from ML_Project.utils.common import read_yaml, create_directories\n",
    "from ML_Project import logger\n",
    "\n",
    "class ConfigurationManager:\n",
    "    def __init__(self,\n",
    "                 config_path = Config_File_Path,\n",
    "                 params_path = Params_File_Path,\n",
    "                 schema_path = Schema_File_Path):\n",
    "        self.config = read_yaml(config_path)\n",
    "        self.params = read_yaml(params_path)\n",
    "        self.schema = read_yaml(schema_path)\n",
    "        # print(self.schema)\n",
    "        create_directories([self.config['artifacts_root']])\n",
    "\n",
    "    def get_data_transformation_config(self) -> DataTrasnformationConfig:\n",
    "        config = self.config.data_transformation\n",
    "\n",
    "        create_directories([config.root_dir])\n",
    "\n",
    "        data_transformation_config = DataTrasnformationConfig(\n",
    "            root_dir = config.root_dir,\n",
    "            data_file = config.data_path\n",
    "        )\n",
    "\n",
    "        return data_transformation_config"
   ]
  },
  {
   "cell_type": "code",
   "execution_count": 10,
   "metadata": {},
   "outputs": [],
   "source": [
    "import os\n",
    "from ML_Project import logger\n",
    "from sklearn.model_selection import train_test_split\n",
    "import pandas as pd\n",
    "\n",
    "class DataTransformation:\n",
    "    def __init__(self, config: DataTrasnformationConfig):\n",
    "        self.config = config\n",
    "\n",
    "    def train_test_splittting(self):\n",
    "        data = pd.read_csv(self.config.data_file)\n",
    "\n",
    "        train, test = train_test_split(data)\n",
    "        train.to_csv(os.path.join(self.config.root_dir, 'train.csv'), index = False)\n",
    "        test.to_csv(os.path.join(self.config.root_dir, 'test.csv'), index = False)\n",
    "\n",
    "        logger.info(\" Data Transformation Completed\")\n",
    "        logger.info(train.shape)\n",
    "        logger.info(test.shape)\n",
    "\n",
    "        print(train.shape)\n",
    "        print(test.shape)\n",
    "\n"
   ]
  },
  {
   "cell_type": "code",
   "execution_count": 13,
   "metadata": {},
   "outputs": [
    {
     "name": "stdout",
     "output_type": "stream",
     "text": [
      "[2024-12-29 19:31:22,738: INFO: common : Yaml file loadded successfully from config\\config.yaml]\n",
      "[2024-12-29 19:31:22,742: INFO: common : Yaml file loadded successfully from params.yaml]\n",
      "[2024-12-29 19:31:22,745: INFO: common : Yaml file loadded successfully from schema.yaml]\n",
      "[2024-12-29 19:31:22,745: INFO: common : Directory created at artifacts]\n",
      "[2024-12-29 19:31:22,753: INFO: common : Directory created at artifacts/data_transformation]\n",
      "[2024-12-29 19:31:22,824: INFO: 4167384460 :  Data Transformation Completed]\n",
      "[2024-12-29 19:31:22,824: INFO: 4167384460 : (857, 13)]\n",
      "[2024-12-29 19:31:22,824: INFO: 4167384460 : (286, 13)]\n",
      "(857, 13)\n",
      "(286, 13)\n"
     ]
    }
   ],
   "source": [
    "try:\n",
    "    config_manager = ConfigurationManager()\n",
    "    data_transformation_config = config_manager.get_data_transformation_config()\n",
    "    data_transformation = DataTransformation(data_transformation_config)\n",
    "    data_transformation.train_test_splittting()\n",
    "except Exception as e:\n",
    "    raise e"
   ]
  },
  {
   "cell_type": "code",
   "execution_count": null,
   "metadata": {},
   "outputs": [],
   "source": []
  },
  {
   "cell_type": "code",
   "execution_count": null,
   "metadata": {},
   "outputs": [],
   "source": []
  }
 ],
 "metadata": {
  "kernelspec": {
   "display_name": "venv",
   "language": "python",
   "name": "python3"
  },
  "language_info": {
   "codemirror_mode": {
    "name": "ipython",
    "version": 3
   },
   "file_extension": ".py",
   "mimetype": "text/x-python",
   "name": "python",
   "nbconvert_exporter": "python",
   "pygments_lexer": "ipython3",
   "version": "3.10.5"
  }
 },
 "nbformat": 4,
 "nbformat_minor": 2
}
